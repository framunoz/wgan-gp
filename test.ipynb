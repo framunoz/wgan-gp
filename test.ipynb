{
 "cells": [
  {
   "cell_type": "code",
   "execution_count": 1,
   "metadata": {},
   "outputs": [
    {
     "data": {
      "image/png": "[encoded data removed]",
      "text/plain": [
       "<PIL.Image.Image image mode=L size=64x64>"
      ]
     },
     "execution_count": 1,
     "metadata": {},
     "output_type": "execute_result"
    }
   ],
   "source": [
    "\n",
    "import torchvision.datasets as datasets\n",
    "import torchvision.transforms as transforms\n",
    "image_size = 64\n",
    "channels_img = 1\n",
    "# Transforms\n",
    "transform = transforms.Compose(\n",
    "    [\n",
    "        transforms.Resize(image_size),\n",
    "        #transforms.ToTensor(),\n",
    "        #transforms.Normalize(\n",
    "        #    [0.5 for _ in range(channels_img)], [0.5 for _ in range(channels_img)]\n",
    "        #),\n",
    "    ]\n",
    ")\n",
    "dataset = datasets.MNIST(\n",
    "    root=\"dataset/\",\n",
    "    transform=transform, \n",
    "    download=True,\n",
    ")\n",
    "img, _ = dataset[0]\n",
    "img"
   ]
  },
  {
   "cell_type": "code",
   "execution_count": 2,
   "metadata": {},
   "outputs": [
    {
     "data": {
      "image/png": "[encoded data removed]",
      "text/plain": [
       "<PIL.Image.Image image mode=L size=28x28>"
      ]
     },
     "execution_count": 2,
     "metadata": {},
     "output_type": "execute_result"
    }
   ],
   "source": [
    "from wgan_gp_vae.dataloader import NpyDataset\n",
    "\n",
    "transform = transforms.Compose(\n",
    "    [\n",
    "        #transforms.ToPILImage(),\n",
    "        #transforms.Resize(64),\n",
    "        # transforms.ToTensor(),\n",
    "        # transforms.Normalize(\n",
    "        #     [0.5 for _ in range(channels_img)], [0.5 for _ in range(channels_img)]\n",
    "        # ),\n",
    "    ]\n",
    ")\n",
    "\n",
    "dataset = NpyDataset(transform=None)\n",
    "dataset[0][0]"
   ]
  },
  {
   "cell_type": "code",
   "execution_count": 8,
   "metadata": {},
   "outputs": [
    {
     "data": {
      "text/plain": [
       "(161666, 28, 28)"
      ]
     },
     "execution_count": 8,
     "metadata": {},
     "output_type": "execute_result"
    }
   ],
   "source": [
    "import numpy as np\n",
    "np.load(\"dataset/quick_draw/face.npy\").reshape(-1, *(28, 28)).shape\n"
   ]
  },
  {
   "cell_type": "code",
   "execution_count": 10,
   "metadata": {},
   "outputs": [
    {
     "name": "stdout",
     "output_type": "stream",
     "text": [
      "148436\n"
     ]
    }
   ],
   "source": [
    "from quickdraw import QuickDrawDataGroup\n",
    "\n",
    "qddg = QuickDrawDataGroup(\"face\", recognized=True, max_drawings=None, print_messages=False)\n",
    "print(qddg.drawing_count)"
   ]
  },
  {
   "cell_type": "code",
   "execution_count": 13,
   "metadata": {},
   "outputs": [
    {
     "data": {
      "image/png": "[encoded data removed]",
      "text/plain": [
       "<PIL.Image.Image image mode=RGB size=64x64>"
      ]
     },
     "execution_count": 13,
     "metadata": {},
     "output_type": "execute_result"
    }
   ],
   "source": [
    "transforms.Resize(64)(qddg.get_drawing(0).get_image(stroke_width=10))"
   ]
  }
 ],
 "metadata": {
  "kernelspec": {
   "display_name": "Python 3",
   "language": "python",
   "name": "python3"
  },
  "language_info": {
   "codemirror_mode": {
    "name": "ipython",
    "version": 3
   },
   "file_extension": ".py",
   "mimetype": "text/x-python",
   "name": "python",
   "nbconvert_exporter": "python",
   "pygments_lexer": "ipython3",
   "version": "3.10.12"
  },
  "orig_nbformat": 4
 },
 "nbformat": 4,
 "nbformat_minor": 2
}
